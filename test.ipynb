{
 "cells": [
  {
   "cell_type": "markdown",
   "id": "d71c606b",
   "metadata": {},
   "source": [
    "Install !pip install ipython-sql"
   ]
  },
  {
   "cell_type": "code",
   "execution_count": 46,
   "id": "e0ff5804",
   "metadata": {},
   "outputs": [],
   "source": [
    "import os\n",
    "import glob\n",
    "import pyodbc\n",
    "import pandas as pd\n",
    "import numpy as np\n",
    "from queries import *\n",
    "from dotenv import load_dotenv"
   ]
  },
  {
   "cell_type": "code",
   "execution_count": 47,
   "id": "b36dda0e",
   "metadata": {},
   "outputs": [],
   "source": [
    "load_dotenv()\n",
    "server = os.getenv(\"SERVER\")\n",
    "database = os.getenv(\"DATABASE\")\n",
    "username = os.getenv(\"UID\")\n",
    "password = os.getenv(\"PASSWORD\")\n",
    "driver = 'ODBC Driver 18 for SQL Server'\n",
    "#connectionString = 'DRIVER={{ODBC Driver 18 for SQL Server}};SERVER={server};DATABASE={database};UID={username};PWD={password}'"
   ]
  },
  {
   "cell_type": "code",
   "execution_count": 48,
   "id": "2aa374b5",
   "metadata": {},
   "outputs": [],
   "source": [
    "connectionString = f'DRIVER={{ODBC Driver 18 for SQL Server}};SERVER={server};DATABASE={database};UID={username};PWD={password}'\n",
    "conn = pyodbc.connect(connectionString) \n",
    "cur = conn.cursor() "
   ]
  },
  {
   "cell_type": "code",
   "execution_count": 51,
   "id": "44db3dd0",
   "metadata": {},
   "outputs": [
    {
     "name": "stdout",
     "output_type": "stream",
     "text": [
      "(2, datetime.datetime(2018, 11, 1, 21, 1, 46, 797000), 8, 'free', None, None, 139, 'Phoenix-Mesa-Scottsdale, AZ', '\"Mozilla/5.0 (Windows NT 6.1; WOW64) AppleWebKit/537.36 (KHTML, like Gecko) Chrome/35.0.1916.153 Safari/537.36\"')\n",
      "(4, datetime.datetime(2018, 11, 1, 21, 5, 52, 797000), 8, 'free', None, None, 139, 'Phoenix-Mesa-Scottsdale, AZ', '\"Mozilla/5.0 (Windows NT 6.1; WOW64) AppleWebKit/537.36 (KHTML, like Gecko) Chrome/35.0.1916.153 Safari/537.36\"')\n",
      "(5, datetime.datetime(2018, 11, 1, 21, 8, 16, 797000), 8, 'free', None, None, 139, 'Phoenix-Mesa-Scottsdale, AZ', '\"Mozilla/5.0 (Windows NT 6.1; WOW64) AppleWebKit/537.36 (KHTML, like Gecko) Chrome/35.0.1916.153 Safari/537.36\"')\n",
      "(6, datetime.datetime(2018, 11, 1, 21, 11, 13, 797000), 8, 'free', None, None, 139, 'Phoenix-Mesa-Scottsdale, AZ', '\"Mozilla/5.0 (Windows NT 6.1; WOW64) AppleWebKit/537.36 (KHTML, like Gecko) Chrome/35.0.1916.153 Safari/537.36\"')\n",
      "(7, datetime.datetime(2018, 11, 1, 21, 17, 33, 797000), 8, 'free', None, None, 139, 'Phoenix-Mesa-Scottsdale, AZ', '\"Mozilla/5.0 (Windows NT 6.1; WOW64) AppleWebKit/537.36 (KHTML, like Gecko) Chrome/35.0.1916.153 Safari/537.36\"')\n"
     ]
    }
   ],
   "source": [
    "# Execute the T-SQL statements.\n",
    "for statement in [\"SELECT TOP 5 * FROM songplays;\"]:\n",
    "    cur.execute(statement)\n",
    "\n",
    "# Fetch the results of the T-SQL statements.\n",
    "results = cur.fetchall()\n",
    "\n",
    "# Print the results of the T-SQL statements.\n",
    "for row in results:\n",
    "    print(row)\n",
    "\n",
    "# Close the connection to the Azure SQL Server database.\n"
   ]
  },
  {
   "cell_type": "code",
   "execution_count": 52,
   "id": "4b59675a",
   "metadata": {},
   "outputs": [
    {
     "name": "stdout",
     "output_type": "stream",
     "text": [
      "('SOMZWCG12A8C13C480', \"I Didn't Mean To\", 'ARD7TVE1187B99BFB1', 0, 218.93179)\n"
     ]
    }
   ],
   "source": [
    "# Execute the T-SQL statements.\n",
    "for statement in [\"SELECT TOP 5 * FROM songs;\"]:\n",
    "    cur.execute(statement)\n",
    "\n",
    "# Fetch the results of the T-SQL statements.\n",
    "results = cur.fetchall()\n",
    "\n",
    "# Print the results of the T-SQL statements.\n",
    "for row in results:\n",
    "    print(row)\n",
    "\n",
    "# Close the connection to the Azure SQL Server database."
   ]
  },
  {
   "cell_type": "code",
   "execution_count": 53,
   "id": "0f57560c",
   "metadata": {},
   "outputs": [
    {
     "name": "stdout",
     "output_type": "stream",
     "text": [
      "(8, 'Kaylee', 'Summers', 'F', 'free')\n",
      "(10, 'Sylvie', 'Cruz', 'F', 'free')\n",
      "(26, 'Ryan', 'Smith', 'M', 'free')\n",
      "(101, 'Jayden', 'Fox', 'M', 'free')\n"
     ]
    }
   ],
   "source": [
    "# Execute the T-SQL statements.\n",
    "for statement in [\"SELECT TOP 5 * FROM users;\"]:\n",
    "    cur.execute(statement)\n",
    "\n",
    "# Fetch the results of the T-SQL statements.\n",
    "results = cur.fetchall()\n",
    "\n",
    "# Print the results of the T-SQL statements.\n",
    "for row in results:\n",
    "    print(row)\n",
    "\n",
    "# Close the connection to the Azure SQL Server database."
   ]
  },
  {
   "cell_type": "code",
   "execution_count": 54,
   "id": "53dcdf41",
   "metadata": {},
   "outputs": [
    {
     "name": "stdout",
     "output_type": "stream",
     "text": [
      "(datetime.datetime(2018, 11, 1, 21, 1, 46, 796000), 21, 1, 44, 11, 2018, 3)\n",
      "(datetime.datetime(2018, 11, 1, 21, 5, 52, 796000), 21, 1, 44, 11, 2018, 3)\n",
      "(datetime.datetime(2018, 11, 1, 21, 8, 16, 796000), 21, 1, 44, 11, 2018, 3)\n",
      "(datetime.datetime(2018, 11, 1, 21, 11, 13, 796000), 21, 1, 44, 11, 2018, 3)\n",
      "(datetime.datetime(2018, 11, 1, 21, 17, 33, 796000), 21, 1, 44, 11, 2018, 3)\n"
     ]
    }
   ],
   "source": [
    "# Execute the T-SQL statements.\n",
    "for statement in [\"SELECT TOP 5 * FROM time;\"]:\n",
    "    cur.execute(statement)\n",
    "\n",
    "# Fetch the results of the T-SQL statements.\n",
    "results = cur.fetchall()\n",
    "\n",
    "# Print the results of the T-SQL statements.\n",
    "for row in results:\n",
    "    print(row)\n",
    "\n",
    "# Close the connection to the Azure SQL Server database."
   ]
  },
  {
   "cell_type": "code",
   "execution_count": 55,
   "id": "71986910",
   "metadata": {},
   "outputs": [
    {
     "name": "stdout",
     "output_type": "stream",
     "text": [
      "('ARD7TVE1187B99BFB1', 'Casual', 'California - LA', None, None)\n"
     ]
    }
   ],
   "source": [
    "# Execute the T-SQL statements.\n",
    "for statement in [\"SELECT TOP 5 * FROM artists;\"]:\n",
    "    cur.execute(statement)\n",
    "\n",
    "# Fetch the results of the T-SQL statements.\n",
    "results = cur.fetchall()\n",
    "\n",
    "# Print the results of the T-SQL statements.\n",
    "for row in results:\n",
    "    print(row)\n",
    "\n",
    "# Close the connection to the Azure SQL Server database."
   ]
  },
  {
   "cell_type": "code",
   "execution_count": null,
   "id": "cb586fc6",
   "metadata": {},
   "outputs": [],
   "source": []
  }
 ],
 "metadata": {
  "kernelspec": {
   "display_name": "Python 3 (ipykernel)",
   "language": "python",
   "name": "python3"
  },
  "language_info": {
   "codemirror_mode": {
    "name": "ipython",
    "version": 3
   },
   "file_extension": ".py",
   "mimetype": "text/x-python",
   "name": "python",
   "nbconvert_exporter": "python",
   "pygments_lexer": "ipython3",
   "version": "3.7.16"
  }
 },
 "nbformat": 4,
 "nbformat_minor": 5
}
